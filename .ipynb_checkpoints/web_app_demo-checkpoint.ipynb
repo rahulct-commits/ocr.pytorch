{
 "cells": [
  {
   "cell_type": "markdown",
   "metadata": {
    "colab_type": "text",
    "id": "view-in-github"
   },
   "source": [
    "<a href=\"https://colab.research.google.com/github/rakesh4real/ocr.pytorch/blob/master/web_app_demo.ipynb\" target=\"_parent\"><img src=\"https://colab.research.google.com/assets/colab-badge.svg\" alt=\"Open In Colab\"/></a>"
   ]
  },
  {
   "cell_type": "code",
   "execution_count": 2,
   "metadata": {
    "colab": {
     "base_uri": "https://localhost:8080/",
     "height": 34
    },
    "id": "_n4OIAytfqQz",
    "outputId": "f4e5d547-de13-42a6-9423-7bc94b79fada"
   },
   "outputs": [
    {
     "data": {
      "application/javascript": [
       "(async (port, path, text, element) => {\n",
       "    if (!google.colab.kernel.accessAllowed) {\n",
       "      return;\n",
       "    }\n",
       "    element.appendChild(document.createTextNode(''));\n",
       "    const url = await google.colab.kernel.proxyPort(port);\n",
       "    const anchor = document.createElement('a');\n",
       "    anchor.href = url + path;\n",
       "    anchor.target = '_blank';\n",
       "    anchor.setAttribute('data-href', url + path);\n",
       "    anchor.textContent = text;\n",
       "    element.appendChild(anchor);\n",
       "  })(8084, \"/\", \"https://localhost:8084/\", window.element)"
      ],
      "text/plain": [
       "<IPython.core.display.Javascript object>"
      ]
     },
     "metadata": {
      "tags": []
     },
     "output_type": "display_data"
    }
   ],
   "source": [
    "from google.colab import output\n",
    "output.serve_kernel_port_as_window(8084)"
   ]
  },
  {
   "cell_type": "markdown",
   "metadata": {
    "id": "Hz39pJjnfq-b"
   },
   "source": [
    "Run the above **and below** cells and then, click on link above 👆 `https://localhost:8084/` to see output (web-app) of code below👇 in new tab.\n",
    "\n",
    "\n",
    "<br>\n",
    "<br>\n",
    "\n",
    "\n",
    "**Note:** The page will load when you see output like below in last cell. Reload the new tab if necessary.\n",
    "\n",
    "```\n",
    "INFO:     Uvicorn running on http://127.0.0.1:8084 (Press CTRL+C to quit)\n",
    "INFO:     Started reloader process [147] using statreload\n",
    "INFO:     Started server process [153]\n",
    "INFO:     Waiting for application startup.\n",
    "INFO:     Application startup complete.\n",
    "```"
   ]
  },
  {
   "cell_type": "code",
   "execution_count": 3,
   "metadata": {
    "colab": {
     "base_uri": "https://localhost:8080/"
    },
    "id": "5Xi_ib-8fhKY",
    "outputId": "d42466da-ebdd-414f-8a21-9feacdbb9eb2"
   },
   "outputs": [
    {
     "name": "stdout",
     "output_type": "stream",
     "text": [
      "Cloning into 'ocr.pytorch'...\n",
      "remote: Enumerating objects: 266, done.\u001b[K\n",
      "remote: Counting objects: 100% (266/266), done.\u001b[K\n",
      "remote: Compressing objects: 100% (195/195), done.\u001b[K\n",
      "remote: Total 559 (delta 146), reused 170 (delta 67), pack-reused 293\u001b[K\n",
      "Receiving objects: 100% (559/559), 107.12 MiB | 33.80 MiB/s, done.\n",
      "Resolving deltas: 100% (269/269), done.\n"
     ]
    }
   ],
   "source": [
    "!git clone https://github.com/rakesh4real/ocr.pytorch.git"
   ]
  },
  {
   "cell_type": "code",
   "execution_count": 4,
   "metadata": {
    "colab": {
     "base_uri": "https://localhost:8080/"
    },
    "id": "Gtv4_ftYfk4a",
    "outputId": "65e5960e-b331-4872-d84c-ee89e53a2efa"
   },
   "outputs": [
    {
     "name": "stdout",
     "output_type": "stream",
     "text": [
      "/content/ocr.pytorch/checkpoints\n",
      "  % Total    % Received % Xferd  Average Speed   Time    Time     Time  Current\n",
      "                                 Dload  Upload   Total   Spent    Left  Speed\n",
      "100 67.6M  100 67.6M    0     0  38.3M      0  0:00:01  0:00:01 --:--:-- 38.3M\n",
      "  % Total    % Received % Xferd  Average Speed   Time    Time     Time  Current\n",
      "                                 Dload  Upload   Total   Spent    Left  Speed\n",
      "100 43.1M  100 43.1M    0     0  29.9M      0  0:00:01  0:00:01 --:--:-- 29.8M\n",
      "/content/ocr.pytorch\n"
     ]
    }
   ],
   "source": [
    "%cd ocr.pytorch/checkpoints\n",
    "!curl -O https://raw.githubusercontent.com/rakesh4real/ocr.pytorch/master/checkpoints/CTPN.pth\n",
    "!curl -O https://raw.githubusercontent.com/rakesh4real/ocr.pytorch/master/checkpoints/CRNN-1010.pth\n",
    "%cd .. "
   ]
  },
  {
   "cell_type": "code",
   "execution_count": null,
   "metadata": {
    "colab": {
     "base_uri": "https://localhost:8080/"
    },
    "id": "psrQJDxGfmqs",
    "outputId": "fb14d91b-d5f9-44d3-c43e-4d5fe5115ab4"
   },
   "outputs": [
    {
     "name": "stdout",
     "output_type": "stream",
     "text": [
      "Requirement already satisfied: fastapi in d:\\github\\ocr.pytorch\\env\\lib\\site-packages (0.61.2)\n",
      "Requirement already satisfied: starlette==0.13.6 in d:\\github\\ocr.pytorch\\env\\lib\\site-packages (from fastapi) (0.13.6)\n",
      "Requirement already satisfied: pydantic<2.0.0,>=1.0.0 in d:\\github\\ocr.pytorch\\env\\lib\\site-packages (from fastapi) (1.7.2)\n",
      "Requirement already satisfied: uvicorn in d:\\github\\ocr.pytorch\\env\\lib\\site-packages (0.12.2)\n",
      "Requirement already satisfied: click==7.* in d:\\github\\ocr.pytorch\\env\\lib\\site-packages (from uvicorn) (7.1.2)\n",
      "Requirement already satisfied: typing-extensions; python_version < \"3.8\" in d:\\github\\ocr.pytorch\\env\\lib\\site-packages (from uvicorn) (3.7.4.3)\n",
      "Requirement already satisfied: h11>=0.8 in d:\\github\\ocr.pytorch\\env\\lib\\site-packages (from uvicorn) (0.11.0)\n",
      "Requirement already satisfied: aiofiles in d:\\github\\ocr.pytorch\\env\\lib\\site-packages (0.6.0)\n",
      "Requirement already satisfied: python-multipart in d:\\github\\ocr.pytorch\\env\\lib\\site-packages (0.0.5)\n",
      "Requirement already satisfied: six>=1.4.0 in d:\\github\\ocr.pytorch\\env\\lib\\site-packages (from python-multipart) (1.15.0)\n"
     ]
    }
   ],
   "source": [
    "!pip install fastapi\n",
    "!pip install uvicorn\n",
    "!pip install aiofiles\n",
    "!pip install python-multipart\n",
    "\n",
    "!python -m uvicorn main:app --reload --port 8084"
   ]
  },
  {
   "cell_type": "code",
   "execution_count": null,
   "metadata": {},
   "outputs": [],
   "source": []
  }
 ],
 "metadata": {
  "colab": {
   "authorship_tag": "ABX9TyO57VE5oXM7Gc6YTJX2CWKF",
   "include_colab_link": true,
   "name": "web-app-demo.ipynb",
   "provenance": []
  },
  "kernelspec": {
   "display_name": "Python 3",
   "language": "python",
   "name": "python3"
  },
  "language_info": {
   "codemirror_mode": {
    "name": "ipython",
    "version": 3
   },
   "file_extension": ".py",
   "mimetype": "text/x-python",
   "name": "python",
   "nbconvert_exporter": "python",
   "pygments_lexer": "ipython3",
   "version": "3.7.9"
  }
 },
 "nbformat": 4,
 "nbformat_minor": 1
}
